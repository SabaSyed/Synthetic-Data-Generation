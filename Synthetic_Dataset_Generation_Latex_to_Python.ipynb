{
  "nbformat": 4,
  "nbformat_minor": 0,
  "metadata": {
    "colab": {
      "provenance": []
    },
    "kernelspec": {
      "name": "python3",
      "display_name": "Python 3"
    },
    "language_info": {
      "name": "python"
    }
  },
  "cells": [
    {
      "cell_type": "markdown",
      "source": [
        "# **Generating Mathematical Expressions using Sympy:**\n",
        "# **1. Introduction to Python Libraries for Symbolic Mathematics:**\n",
        "\n",
        "\n",
        "SymPy is a Python library for symbolic mathematics. It aims to become a full-featured computer algebra system while keeping the code as simple as possible to understand. SymPy is written entirely in Python.\n",
        "\n",
        "\n",
        "\n",
        "Features of SymPy:\n",
        "\n",
        "Symbolic computation\n",
        "\n",
        "Algebra\n",
        "\n",
        "Calculus\n",
        "\n",
        "Solving equations\n",
        "\n",
        "Discrete mathematics\n",
        "\n",
        "\n",
        "\n",
        "Installation:\n",
        "\n",
        "To install SymPy, use the following command:\n",
        "\n",
        "pip install sympy"
      ],
      "metadata": {
        "id": "TQQ0lg4Iu_QU"
      }
    },
    {
      "cell_type": "code",
      "execution_count": null,
      "metadata": {
        "id": "Ax9qW6wLuzPe"
      },
      "outputs": [],
      "source": [
        "import sympy as sp\n",
        "import random\n",
        "import pandas as pd\n",
        "import re\n",
        "import json\n",
        "import uuid\n",
        "from sympy import symbols\n",
        "import numpy as np\n",
        "import inspect\n"
      ]
    },
    {
      "cell_type": "markdown",
      "source": [
        "# Logarithmic Expression Generation"
      ],
      "metadata": {
        "id": "cTyx__JoB2Zq"
      }
    },
    {
      "cell_type": "code",
      "source": [
        "def generate_expression_logrithmic(order):\n",
        "    x = symbols('x')\n",
        "    a = random.randint(1, 10)\n",
        "    b = random.randint(1, 10)\n",
        "    c = random.randint(1, 10)\n",
        "    expr = a * sp.log(b * x) + c\n",
        "    return expr\n"
      ],
      "metadata": {
        "id": "9LXEX9rxvMOn"
      },
      "execution_count": null,
      "outputs": []
    },
    {
      "cell_type": "code",
      "source": [
        "order=random.randint(1,6)\n",
        "log_expr=generate_expression_logrithmic(order)\n",
        "latex_log=sp.latex(log_expr)\n",
        "print(log_expr)\n",
        "print(latex_log)\n"
      ],
      "metadata": {
        "colab": {
          "base_uri": "https://localhost:8080/"
        },
        "id": "70xXEKI4E0Qq",
        "outputId": "dd123314-35cf-48eb-a013-d25a13a2419e"
      },
      "execution_count": null,
      "outputs": [
        {
          "output_type": "stream",
          "name": "stdout",
          "text": [
            "log(7*x) + 3\n",
            "\\log{\\left(7 x \\right)} + 3\n"
          ]
        }
      ]
    },
    {
      "cell_type": "code",
      "source": [
        "data1=[]\n",
        "for _ in range(10):\n",
        "    order=random.randint(1,6)\n",
        "    log_expr=generate_expression_logrithmic(order)\n",
        "    latex_log=sp.latex(log_expr)\n",
        "    data1.append({\n",
        "        \"sympy_exp\": log_expr,\n",
        "        \"latex_expression\": latex_log})\n",
        "print(data1)\n"
      ],
      "metadata": {
        "colab": {
          "base_uri": "https://localhost:8080/"
        },
        "id": "OKjEmFmAQrcv",
        "outputId": "8d2fc210-25b2-4582-d164-db55d2241e4e"
      },
      "execution_count": null,
      "outputs": [
        {
          "output_type": "stream",
          "name": "stdout",
          "text": [
            "[{'sympy_exp': 3*log(7*x) + 2, 'latex_expression': '3 \\\\log{\\\\left(7 x \\\\right)} + 2'}, {'sympy_exp': 5*log(2*x) + 9, 'latex_expression': '5 \\\\log{\\\\left(2 x \\\\right)} + 9'}, {'sympy_exp': 7*log(2*x) + 10, 'latex_expression': '7 \\\\log{\\\\left(2 x \\\\right)} + 10'}, {'sympy_exp': 4*log(8*x) + 9, 'latex_expression': '4 \\\\log{\\\\left(8 x \\\\right)} + 9'}, {'sympy_exp': 7*log(4*x) + 2, 'latex_expression': '7 \\\\log{\\\\left(4 x \\\\right)} + 2'}, {'sympy_exp': 5*log(x) + 7, 'latex_expression': '5 \\\\log{\\\\left(x \\\\right)} + 7'}, {'sympy_exp': log(8*x) + 1, 'latex_expression': '\\\\log{\\\\left(8 x \\\\right)} + 1'}, {'sympy_exp': 6*log(6*x) + 7, 'latex_expression': '6 \\\\log{\\\\left(6 x \\\\right)} + 7'}, {'sympy_exp': 9*log(9*x) + 1, 'latex_expression': '9 \\\\log{\\\\left(9 x \\\\right)} + 1'}, {'sympy_exp': 10*log(9*x) + 5, 'latex_expression': '10 \\\\log{\\\\left(9 x \\\\right)} + 5'}]\n"
          ]
        }
      ]
    },
    {
      "cell_type": "markdown",
      "source": [
        "# **Task 2: Converting Mathematical Expressions to Code and Creating Advanced Equations**\n",
        "\n",
        "1. Introduction to Converting Mathematical Expressions to Python Code\n",
        "SymPy allows users to define and manipulate mathematical expressions symbolically and convert them into executable Python code."
      ],
      "metadata": {
        "id": "XiRBzx1eXGvB"
      }
    },
    {
      "cell_type": "markdown",
      "source": [
        "# Generate 100 Multivariable Expressions\n",
        "*   Use the python code to generate 100 random multivariable expressions.\n",
        "*   Print each generated expression.\n",
        "*   Convert each generated expression into executable Python code.\n",
        "\n",
        "\n",
        "*   Save all generated expressions and corresponding codes into a .json file.\n",
        "\n",
        "*   Ensure the file `multivariable.json` is correctly saved.\n",
        "\n",
        "*   Submit the file for evaluation."
      ],
      "metadata": {
        "id": "wPoqAiQRVH3O"
      }
    },
    {
      "cell_type": "code",
      "source": [
        "symbols = sp.symbols('x y z a b c')\n",
        "\n",
        "# Detect functions to add specific imports\n",
        "def detect_sympy_functions(expr):\n",
        "    sympy_functions = set()\n",
        "    for sub_expr in expr.find(sp.Function):\n",
        "        sympy_functions.add(type(sub_expr))\n",
        "    return sympy_functions\n",
        "\n",
        "def expr_to_code(expr, variables):\n",
        "    variables = tuple(variables)\n",
        "    sympy_functions = detect_sympy_functions(expr)\n",
        "    imports = \"import numpy as np\\n\"\n",
        "\n",
        "    if sympy_functions:\n",
        "        imports += \"from sympy import \" + \", \".join([func.__name__ for func in sympy_functions]) + \"\\n\"\n",
        "\n",
        "    code = sp.lambdify(variables, expr, \"numpy\")\n",
        "    source_code = inspect.getsource(code)\n",
        "    return imports + source_code"
      ],
      "metadata": {
        "id": "81DW9qTFo06X"
      },
      "execution_count": null,
      "outputs": []
    },
    {
      "cell_type": "code",
      "source": [
        "#############Generating Multivariable Expressions#############\n",
        "\n",
        "# Define possible symbols\n",
        "def generate_multivariable_expression():\n",
        "    num_symbols = random.randint(2, len(symbols))  # Randomly choose how many symbols to use in the expression\n",
        "    chosen_symbols = random.sample(symbols, num_symbols)\n",
        "    order = random.randint(1, 6)  # Random order of the polynomial\n",
        "\n",
        "    coefficients = [random.randint(0, 5) for _ in range(order)]\n",
        "    while all(coeff == 0 for coeff in coefficients):  # Ensure not all coefficients are zero\n",
        "        coefficients = [random.randint(0, 5) for _ in range(order)]\n",
        "\n",
        "    constant = random.randint(0, 5)\n",
        "    expr = sum(coeff * sp.Mul(*[s**random.randint(0, 3) for s in chosen_symbols]) for coeff in coefficients) + constant\n",
        "    return expr, chosen_symbols\n"
      ],
      "metadata": {
        "id": "8-7TJYUXYR6p"
      },
      "execution_count": null,
      "outputs": []
    },
    {
      "cell_type": "code",
      "source": [
        "# Generate 100 expressions\n",
        "multi_exprs = []\n",
        "for _ in range(100):\n",
        "    expr, variables = generate_multivariable_expression()\n",
        "    code_source = expr_to_code(expr, variables)\n",
        "    multi_exprs.append({\n",
        "        \"expression\": str(expr),\n",
        "        \"code\": code_source\n",
        "    })\n",
        "\n",
        "# Save to a .json file\n",
        "filename = \"multivariable.json\"\n",
        "with open(filename, 'w') as file:\n",
        "    json.dump(multi_exprs, file, indent=4)"
      ],
      "metadata": {
        "id": "4i1sQWlyJfYz"
      },
      "execution_count": null,
      "outputs": []
    },
    {
      "cell_type": "code",
      "source": [
        "# Test sample generated code\n",
        "def _lambdifygenerated(c, x, y):\n",
        "      return c**3*x*y**3 + 3\n",
        "_lambdifygenerated(1,7,2)"
      ],
      "metadata": {
        "colab": {
          "base_uri": "https://localhost:8080/"
        },
        "id": "iG5Yz2WeI_-0",
        "outputId": "185311b4-4564-4837-ef27-0baced5fd134"
      },
      "execution_count": null,
      "outputs": [
        {
          "output_type": "execute_result",
          "data": {
            "text/plain": [
              "59"
            ]
          },
          "metadata": {},
          "execution_count": 10
        }
      ]
    },
    {
      "cell_type": "markdown",
      "source": [
        "# Generate 100 Trigonometric Expressions\n",
        "*   Use the python code to generate 100 random Trigonometric expressions.\n",
        "\n",
        "*   Print each generated expression.\n",
        "*   Convert each generated expression into executable Python code.\n",
        "\n",
        "\n",
        "*   Save all generated expressions and corresponding codes into a .json file.\n",
        "\n",
        "*   Ensure the file `trigonometric.json` is correctly saved.\n",
        "\n",
        "*   Submit the file for evaluation."
      ],
      "metadata": {
        "id": "X4C2NTY0VFUo"
      }
    },
    {
      "cell_type": "code",
      "source": [
        "# Define possible trigonometric functions\n",
        "trig_functions = [sp.sin, sp.cos, sp.tan, sp.cot, sp.sec, sp.csc]\n",
        "def generate_trig_expression():\n",
        "    num_symbols = random.randint(2, len(symbols))  # Randomly choose how many symbols to use in the expression\n",
        "    chosen_symbols = random.sample(symbols, num_symbols)\n",
        "    order = random.randint(1, 6)  # Random order of the polynomial\n",
        "\n",
        "    coefficients = [random.randint(0, 5) for _ in range(order)]\n",
        "    while all(coeff == 0 for coeff in coefficients):  # Ensure not all coefficients are zero\n",
        "        coefficients = [random.randint(0, 5) for _ in range(order)]\n",
        "\n",
        "    constant = random.randint(0, 5)\n",
        "    expr = sum(coeff * random.choice(trig_functions)(sp.Mul(*[s**random.randint(1, 3) for s in chosen_symbols])) for coeff in coefficients) + constant\n",
        "    return expr, chosen_symbols\n"
      ],
      "metadata": {
        "id": "4eZf6HGMKUfN"
      },
      "execution_count": null,
      "outputs": []
    },
    {
      "cell_type": "code",
      "source": [
        "# Generate 100 expressions\n",
        "trig_exprs = []\n",
        "for _ in range(100):\n",
        "    expr, variables = generate_trig_expression()\n",
        "    code_source = expr_to_code(expr, variables)\n",
        "    # test_cases = generate_test_cases(expr, variables)\n",
        "    trig_exprs.append({\n",
        "        \"expression\": str(expr),\n",
        "        \"code\": code_source,\n",
        "        # \"test_cases\": test_cases\n",
        "    })\n",
        "\n",
        "# Save to a .json file\n",
        "filename = \"trigonometric.json\"\n",
        "with open(filename, 'w') as file:\n",
        "    json.dump(trig_exprs, file, indent=4)\n",
        "\n",
        "print(f\"Expressions saved to {filename}\")"
      ],
      "metadata": {
        "colab": {
          "base_uri": "https://localhost:8080/"
        },
        "id": "gTls9Lkoq3T9",
        "outputId": "a06ea34c-bb3a-4395-fc6e-4dbef474f644"
      },
      "execution_count": null,
      "outputs": [
        {
          "output_type": "stream",
          "name": "stdout",
          "text": [
            "Expressions saved to trigonometric.json\n"
          ]
        }
      ]
    },
    {
      "cell_type": "markdown",
      "source": [
        "# Generate 100 Geometric Expressions\n",
        "*   Use the python code to generate 100 random Trigonometric expressions.\n",
        "\n",
        "*   Print each generated expression.\n",
        "*   Convert each generated expression into executable Python code.\n",
        "\n",
        "\n",
        "*   Save all generated expressions and corresponding codes into a .json file.\n",
        "\n",
        "*   Ensure the file `geometric.json` is correctly saved.\n",
        "\n",
        "*   Submit the file for evaluation."
      ],
      "metadata": {
        "id": "0spoWt0tZy-L"
      }
    },
    {
      "cell_type": "code",
      "source": [
        "geo_functions = [sp.sqrt, sp.Abs]\n",
        "\n",
        "def generate_geometric_expression():\n",
        "    num_symbols = random.randint(2, len(symbols))  # Randomly choose how many symbols to use in the expression\n",
        "    chosen_symbols = random.sample(symbols, num_symbols)\n",
        "    order = random.randint(1, 3)  # Random order of the polynomial for geometric expressions\n",
        "\n",
        "    coefficients = [random.randint(1, 5) for _ in range(order)]\n",
        "    while all(coeff == 0 for coeff in coefficients):  # Ensure not all coefficients are zero\n",
        "        coefficients = [random.randint(1, 5) for _ in range(order)]\n",
        "\n",
        "    constant = random.randint(1, 5)\n",
        "    expr = sum(coeff * random.choice(geo_functions)(sp.Mul(*[s**random.randint(1, 3) for s in chosen_symbols])) for coeff in coefficients) + constant\n",
        "    return expr, chosen_symbols"
      ],
      "metadata": {
        "id": "1gTydUvLrY09"
      },
      "execution_count": null,
      "outputs": []
    },
    {
      "cell_type": "code",
      "source": [
        "# Generate 100 expressions\n",
        "geo_exprs = []\n",
        "for _ in range(100):\n",
        "    expr, variables = generate_geometric_expression()\n",
        "    code_source = expr_to_code(expr, variables)\n",
        "    geo_exprs.append({\n",
        "        \"expression\": str(expr),\n",
        "        \"code\": code_source\n",
        "    })\n",
        "\n",
        "# Save to a .json file\n",
        "filename = \"geometric.json\"\n",
        "with open(filename, 'w') as file:\n",
        "    json.dump(geo_exprs, file, indent=4)\n",
        "\n",
        "print(f\"Expressions saved to {filename}\")"
      ],
      "metadata": {
        "colab": {
          "base_uri": "https://localhost:8080/"
        },
        "id": "5yd4AhmQrb0x",
        "outputId": "e5049c48-95c0-4ae3-8cb4-10330e936b72"
      },
      "execution_count": null,
      "outputs": [
        {
          "output_type": "stream",
          "name": "stdout",
          "text": [
            "Expressions saved to geometric.json\n"
          ]
        }
      ]
    },
    {
      "cell_type": "markdown",
      "source": [
        "# Generate 100 Linear Diophantine Expressions\n",
        "*   Use the python code to generate 100 random Trigonometric expressions.\n",
        "\n",
        "*   Print each generated expression.\n",
        "*   Convert each generated expression into executable Python code.\n",
        "\n",
        "\n",
        "*   Save all generated expressions and corresponding codes into a .json file.\n",
        "\n",
        "*   Ensure the file `linear_diophantine.json` is correctly saved.\n",
        "\n",
        "*   Submit the file for evaluation."
      ],
      "metadata": {
        "id": "OelzOi_0Z9-n"
      }
    },
    {
      "cell_type": "code",
      "source": [
        "def generate_linear_diophantine_expression():\n",
        "    num_symbols = random.randint(2, len(symbols))  # Randomly choose how many symbols to use in the expression\n",
        "    chosen_symbols = random.sample(symbols, num_symbols)\n",
        "\n",
        "    coefficients = [random.randint(1, 10) for _ in range(num_symbols)]\n",
        "    constant = random.randint(1, 10)\n",
        "    expr = sum(coeff * s for coeff, s in zip(coefficients, chosen_symbols)) + constant\n",
        "    return expr, chosen_symbols"
      ],
      "metadata": {
        "id": "JFN4FgMIrssU"
      },
      "execution_count": null,
      "outputs": []
    },
    {
      "cell_type": "code",
      "source": [
        "# Generate 100 expressions\n",
        "dioph_exprs = []\n",
        "for _ in range(100):\n",
        "    expr, variables = generate_linear_diophantine_expression()\n",
        "    code_source = expr_to_code(expr, variables)\n",
        "    dioph_exprs.append({\n",
        "        \"expression\": str(expr),\n",
        "        \"code\": code_source,\n",
        "\n",
        "    })\n",
        "\n",
        "# Save to a .json file\n",
        "filename = \"linear_diophantine.json\"\n",
        "with open(filename, 'w') as file:\n",
        "    json.dump(dioph_exprs, file, indent=4)\n",
        "\n",
        "print(f\"Expressions saved to {filename}\")"
      ],
      "metadata": {
        "colab": {
          "base_uri": "https://localhost:8080/"
        },
        "id": "LL82UYA3r1tq",
        "outputId": "d33e2bfb-d20f-4b74-9285-cf6da30c6c9a"
      },
      "execution_count": null,
      "outputs": [
        {
          "output_type": "stream",
          "name": "stdout",
          "text": [
            "Expressions saved to linear_diophantine.json\n"
          ]
        }
      ]
    },
    {
      "cell_type": "markdown",
      "source": [
        "# Generate 100 Summation Expressions\n",
        "*   Use the python code to generate 100 random Trigonometric expressions.\n",
        "\n",
        "*   Print each generated expression.\n",
        "*   Convert each generated expression into executable Python code.\n",
        "\n",
        "\n",
        "*   Save all generated expressions and corresponding codes into a .json file.\n",
        "\n",
        "*   Ensure the file `summation.json` is correctly saved.\n",
        "\n",
        "*   Submit the file for evaluation."
      ],
      "metadata": {
        "id": "pSEOccwIaJZv"
      }
    },
    {
      "cell_type": "code",
      "source": [
        "def generate_summation_expression():\n",
        "    num_symbols = random.randint(2, len(symbols))  # Randomly choose how many symbols to use in the expression\n",
        "    chosen_symbols = random.sample(symbols, num_symbols)\n",
        "    order = random.randint(1, 3)  # Random order of the polynomial for summation expressions\n",
        "\n",
        "    coefficients = [random.randint(1, 5) for _ in range(order)]\n",
        "    while all(coeff == 0 for coeff in coefficients):  # Ensure not all coefficients are zero\n",
        "        coefficients = [random.randint(1, 5) for _ in range(order)]\n",
        "\n",
        "    constant = random.randint(1, 5)\n",
        "    expr = sum(coeff * random.choice(trig_functions)(sp.Mul(*[s**random.randint(1, 3) for s in chosen_symbols])) for coeff in coefficients) + constant\n",
        "    return expr, chosen_symbols"
      ],
      "metadata": {
        "id": "p70Fy2O5sVI5"
      },
      "execution_count": null,
      "outputs": []
    },
    {
      "cell_type": "code",
      "source": [
        "# Generate 100 expressions\n",
        "sum_exprs = []\n",
        "for _ in range(100):\n",
        "    expr, variables = generate_summation_expression()\n",
        "    code_source = expr_to_code(expr, variables)\n",
        "    sum_exprs.append({\n",
        "        \"expression\": str(expr),\n",
        "        \"code\": code_source\n",
        "    })\n",
        "\n",
        "# Save to a .json file\n",
        "filename = \"summation.json\"\n",
        "with open(filename, 'w') as file:\n",
        "    json.dump(sum_exprs, file, indent=4)\n",
        "\n",
        "print(f\"Expressions saved to {filename}\")"
      ],
      "metadata": {
        "colab": {
          "base_uri": "https://localhost:8080/"
        },
        "id": "wcFO8ZVBsYEo",
        "outputId": "552ba1db-59dd-4136-c051-9277a89c6594"
      },
      "execution_count": null,
      "outputs": [
        {
          "output_type": "stream",
          "name": "stdout",
          "text": [
            "Expressions saved to summation.json\n"
          ]
        }
      ]
    },
    {
      "cell_type": "markdown",
      "source": [
        "#**Add Test Cases for all the above Created Examples**\n",
        "\n",
        "Create Test cases for above created expressions and respective codes(Multivariable, Trigonometric, Geometric, Diophantine, Summation).\n",
        "\n",
        "\n"
      ],
      "metadata": {
        "id": "FvmE8Aq_Q5hr"
      }
    },
    {
      "cell_type": "code",
      "source": [
        "def generate_test_cases(expr, variables, num_cases=5):\n",
        "    test_cases = []\n",
        "    for _ in range(num_cases):\n",
        "        inputs = {str(var): np.random.rand() * 10 for var in variables}\n",
        "        sympy_result = float(expr.subs(inputs))\n",
        "        test_case = {\n",
        "            \"input\": inputs,\n",
        "            \"output\": sympy_result\n",
        "        }\n",
        "        test_cases.append(test_case)\n",
        "    return test_cases"
      ],
      "metadata": {
        "id": "9vQC1K-DsidZ"
      },
      "execution_count": null,
      "outputs": []
    },
    {
      "cell_type": "markdown",
      "source": [
        "##**Required Dataset format**"
      ],
      "metadata": {
        "id": "ESU8G2VwT5Nc"
      }
    },
    {
      "cell_type": "code",
      "source": [
        "#Data Schema\n",
        "[\n",
        "    {\n",
        "        \"task_id\": \"\",\n",
        "        \"sympy_exp\": \"\",\n",
        "        \"latex_exp\": \"\",\n",
        "        \"solution\": \"\",\n",
        "        \"simplified_solution\": \"\",\n",
        "        \"synthetic\": true,\n",
        "        \"domain\": \"\",\n",
        "        \"test_cases\": \"\",\n",
        "        \"complexity\": \"\",\n",
        "        \"equation_type\": \"\",\n",
        "        \"output_type\": \"real | fun | complex| inequality\"\n",
        "    }\n",
        "]"
      ],
      "metadata": {
        "id": "oVo9EdnoTyEr"
      },
      "execution_count": null,
      "outputs": []
    },
    {
      "cell_type": "code",
      "source": [
        "def determine_complexity(expr):\n",
        "    # Initialize complexity score\n",
        "    complexity = 0\n",
        "\n",
        "    # Number of variables\n",
        "    num_vars = len(expr.free_symbols)\n",
        "    complexity += num_vars\n",
        "\n",
        "    # Degree of the expression\n",
        "    degree = sp.Poly(expr).total_degree()\n",
        "    complexity += degree\n",
        "\n",
        "    # Number of operations\n",
        "    num_operations = len([arg for arg in sp.preorder_traversal(expr) if isinstance(arg, sp.Basic) and not isinstance(arg, sp.Symbol)])\n",
        "    complexity += num_operations\n",
        "\n",
        "    # Types of functions used\n",
        "    sympy_functions = detect_sympy_functions(expr)\n",
        "    complexity += len(sympy_functions) * 2  # Assign higher weight to functions\n",
        "\n",
        "    # Nested functions\n",
        "    nested_depth = max([arg.count_ops() for arg in expr.args], default=0)\n",
        "    complexity += nested_depth\n",
        "\n",
        "    # Normalize complexity to be between 1 and 5\n",
        "    max_possible_complexity = 100  # Arbitrary large value to cover most cases, adjust as necessary\n",
        "    normalized_complexity = min(5, max(1, int(5 * (complexity / max_possible_complexity))))\n",
        "\n",
        "    # Return the final complexity score\n",
        "    return normalized_complexity\n"
      ],
      "metadata": {
        "id": "Bj3Jk2GczLPx"
      },
      "execution_count": null,
      "outputs": []
    },
    {
      "cell_type": "code",
      "source": [
        "def create_expression_entry(expr, variables, domain, equation_type, output_type):\n",
        "    task_id = str(uuid.uuid4())[:8]  # Shorten the UUID to 8 characters\n",
        "    sympy_exp = str(expr)\n",
        "    latex_exp = sp.latex(expr)\n",
        "    simplified_solution = sp.simplify(expr)\n",
        "    solution = expr_to_code(expr, variables)\n",
        "    complexity = determine_complexity(expr)\n",
        "    test_cases = generate_test_cases(expr, variables)\n",
        "    return {\n",
        "        \"task_id\": task_id,\n",
        "        \"sympy_exp\": sympy_exp,\n",
        "        \"latex_exp\": latex_exp,\n",
        "        \"solution\": solution,\n",
        "        \"simplified_solution\": str(simplified_solution),\n",
        "        \"synthetic\": True,\n",
        "        \"domain\": domain,\n",
        "        \"test_cases\": test_cases,\n",
        "        \"complexity\": complexity,\n",
        "        \"equation_type\": equation_type,\n",
        "        \"output_type\": output_type\n",
        "    }\n",
        "\n",
        "# Generate and save expressions\n",
        "expressions = []\n",
        "\n",
        "for _ in range(100):\n",
        "    expr, variables = generate_multivariable_expression()\n",
        "    expressions.append(create_expression_entry(expr, variables, \"Mathematics_Algebra\", \"algebraic\", \"real\"))\n",
        "\n",
        "for _ in range(100):\n",
        "    expr, variables = generate_trig_expression()\n",
        "    expressions.append(create_expression_entry(expr, variables, \"Mathematics_Trigonometry\", \"trigonometric\", \"real\"))\n",
        "\n",
        "for _ in range(100):\n",
        "    expr, variables = generate_geometric_expression()\n",
        "    expressions.append(create_expression_entry(expr, variables, \"Mathematics_Geometry\", \"geometric\", \"real\"))\n",
        "\n",
        "for _ in range(100):\n",
        "    expr, variables = generate_linear_diophantine_expression()\n",
        "    expressions.append(create_expression_entry(expr, variables, \"Mathematics_Algebra\", \"diophantine\", \"real\"))\n",
        "\n",
        "for _ in range(100):\n",
        "    expr, variables = generate_summation_expression()\n",
        "    expressions.append(create_expression_entry(expr, variables, \"Mathematics_Algebra\", \"summation\", \"real\"))\n",
        "\n",
        "# Save to a .json file\n",
        "filename = \"expressions_with_tests.json\"\n",
        "with open(filename, 'w') as file:\n",
        "    json.dump(expressions, file, indent=4)\n",
        "\n",
        "print(f\"Expressions saved to {filename}\")"
      ],
      "metadata": {
        "id": "MwSZXeU6x-_G",
        "outputId": "bb427620-cb41-4560-9095-8d9513bfc12a",
        "colab": {
          "base_uri": "https://localhost:8080/"
        }
      },
      "execution_count": null,
      "outputs": [
        {
          "output_type": "stream",
          "name": "stdout",
          "text": [
            "Expressions saved to expressions_with_tests.json\n"
          ]
        }
      ]
    },
    {
      "cell_type": "markdown",
      "source": [
        "#**Test Cases Validation**\n",
        "\n",
        "Validate the test cases to check the code and test cases correctness by picking up above generated random examples and execute them to see if output code is executable and if the test cases output matches the ones generated above."
      ],
      "metadata": {
        "id": "qTT5bmigbytg"
      }
    },
    {
      "cell_type": "code",
      "source": [
        "# task id: ee5dadc3\n",
        "\n",
        "import numpy as np\n",
        "b=1.3491480695484048\n",
        "a= 6.9337638150081204\n",
        "y=2.641715566079348\n",
        "c= 6.961818438725827\n",
        "x= 4.722808136843919\n",
        "z= 9.817074863474971\n",
        "def _lambdifygenerated(b, a, y, c, x, z):\n",
        "      return 3*a**3*b**3*c**3*x**2*y**3*z**2 + a**2*c*x**2*y**3*z**3 + 1\n",
        "_lambdifygenerated(b, a, y, c, x, z)"
      ],
      "metadata": {
        "id": "pdJFtwKeTglM",
        "colab": {
          "base_uri": "https://localhost:8080/"
        },
        "outputId": "94b2204d-d0f1-43ac-f221-5be1b7101685"
      },
      "execution_count": null,
      "outputs": [
        {
          "output_type": "execute_result",
          "data": {
            "text/plain": [
              "32969849215.11939"
            ]
          },
          "metadata": {},
          "execution_count": 44
        }
      ]
    },
    {
      "cell_type": "code",
      "source": [
        "# task_id: \"a2f5267d\"\n",
        "import numpy as np\n",
        "z=2.842427984793389\n",
        "x= 1.5329508815115056\n",
        "from sympy import Abs\n",
        "def _lambdifygenerated(z, x):\n",
        "      return 3*abs(x*z**3) + 3\n",
        "_lambdifygenerated(z, x)"
      ],
      "metadata": {
        "id": "Q6Px0LUe1cje",
        "outputId": "0f323d81-a15d-4708-e36d-51f39dbaf723",
        "colab": {
          "base_uri": "https://localhost:8080/"
        }
      },
      "execution_count": null,
      "outputs": [
        {
          "output_type": "execute_result",
          "data": {
            "text/plain": [
              "108.6131278970129"
            ]
          },
          "metadata": {},
          "execution_count": 46
        }
      ]
    }
  ]
}